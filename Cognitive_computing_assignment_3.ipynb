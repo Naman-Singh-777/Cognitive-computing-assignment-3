{
  "nbformat": 4,
  "nbformat_minor": 0,
  "metadata": {
    "colab": {
      "provenance": []
    },
    "kernelspec": {
      "name": "python3",
      "display_name": "Python 3"
    },
    "language_info": {
      "name": "python"
    }
  },
  "cells": [
    {
      "cell_type": "code",
      "execution_count": 36,
      "metadata": {
        "colab": {
          "base_uri": "https://localhost:8080/"
        },
        "id": "tzxAAXtXMwrZ",
        "outputId": "eb1d32e4-4c4d-4c0b-f6e8-648c69acd34e"
      },
      "outputs": [
        {
          "output_type": "stream",
          "name": "stdout",
          "text": [
            "Solution to Question 1\n"
          ]
        }
      ],
      "source": [
        "import pandas as pd\n",
        "import numpy as np\n",
        "from datetime import datetime\n",
        "\n",
        "print(\"Solution to Question 1\")\n",
        "data = {\n",
        "    'Tid': [1, 2, 3, 4, 5, 6, 7, 8, 9, 10],\n",
        "    'Refund': ['Yes', 'No', 'No', 'Yes', 'No', 'No', 'Yes', 'No', 'No', 'No'],\n",
        "    'Marital Status': ['Single', 'Married', 'Single', 'Married', 'Divorced', 'Married', 'Divorced', 'Single', 'Married', 'Single'],\n",
        "    'Taxable Income': [125000, 100000, 70000, 120000, 95000, 60000, 220000, 85000, 75000, 90000],\n",
        "    'Cheat': ['No', 'No', 'No', 'No', 'Yes', 'No', 'No', 'Yes', 'No', 'Yes']\n",
        "}\n",
        "df = pd.DataFrame(data)"
      ]
    },
    {
      "cell_type": "code",
      "source": [
        "print(\"Solution to Question 2\")\n",
        "selected_rows = df.loc[[0, 4, 7, 8]]\n",
        "print(selected_rows)"
      ],
      "metadata": {
        "colab": {
          "base_uri": "https://localhost:8080/"
        },
        "id": "CIlneSI5ORIf",
        "outputId": "90d3dc39-7a4f-43d1-dfef-932e3d67a58e"
      },
      "execution_count": 37,
      "outputs": [
        {
          "output_type": "stream",
          "name": "stdout",
          "text": [
            "Solution to Question 2\n",
            "   Tid Refund Marital Status  Taxable Income Cheat\n",
            "0    1    Yes         Single          125000    No\n",
            "4    5     No       Divorced           95000   Yes\n",
            "7    8     No         Single           85000   Yes\n",
            "8    9     No        Married           75000    No\n"
          ]
        }
      ]
    },
    {
      "cell_type": "code",
      "source": [
        "print(\"Solution to Question 3.1\")\n",
        "rows_3_to_7 = df.loc[3:7]\n",
        "print(rows_3_to_7)"
      ],
      "metadata": {
        "colab": {
          "base_uri": "https://localhost:8080/"
        },
        "id": "mynxP5CRORL5",
        "outputId": "a1bfca30-84ef-4ae5-ce7c-747fd5fc037f"
      },
      "execution_count": 38,
      "outputs": [
        {
          "output_type": "stream",
          "name": "stdout",
          "text": [
            "Solution to Question 3.1\n",
            "   Tid Refund Marital Status  Taxable Income Cheat\n",
            "3    4    Yes        Married          120000    No\n",
            "4    5     No       Divorced           95000   Yes\n",
            "5    6     No        Married           60000    No\n",
            "6    7    Yes       Divorced          220000    No\n",
            "7    8     No         Single           85000   Yes\n"
          ]
        }
      ]
    },
    {
      "cell_type": "code",
      "source": [
        "print(\"Solution to Question 3.2\")\n",
        "subset = df.iloc[4:9, 2:4]\n",
        "print(subset)"
      ],
      "metadata": {
        "colab": {
          "base_uri": "https://localhost:8080/"
        },
        "id": "IRfK0VhINxRB",
        "outputId": "11e61961-7102-459d-de05-0762235a7e53"
      },
      "execution_count": 39,
      "outputs": [
        {
          "output_type": "stream",
          "name": "stdout",
          "text": [
            "Solution to Question 3.2\n",
            "  Marital Status  Taxable Income\n",
            "4       Divorced           95000\n",
            "5        Married           60000\n",
            "6       Divorced          220000\n",
            "7         Single           85000\n",
            "8        Married           75000\n"
          ]
        }
      ]
    },
    {
      "cell_type": "code",
      "source": [
        "print(\"Solution to Question 3.3\")\n",
        "all_rows_cols_1_to_3 = df.iloc[:, 1:4]\n",
        "print(all_rows_cols_1_to_3)"
      ],
      "metadata": {
        "colab": {
          "base_uri": "https://localhost:8080/"
        },
        "id": "QWdmpd2INxYA",
        "outputId": "91ebcd53-625e-4f9e-f5b9-775dc20b0f7b"
      },
      "execution_count": 40,
      "outputs": [
        {
          "output_type": "stream",
          "name": "stdout",
          "text": [
            "Solution to Question 3.3\n",
            "  Refund Marital Status  Taxable Income\n",
            "0    Yes         Single          125000\n",
            "1     No        Married          100000\n",
            "2     No         Single           70000\n",
            "3    Yes        Married          120000\n",
            "4     No       Divorced           95000\n",
            "5     No        Married           60000\n",
            "6    Yes       Divorced          220000\n",
            "7     No         Single           85000\n",
            "8     No        Married           75000\n",
            "9     No         Single           90000\n"
          ]
        }
      ]
    },
    {
      "cell_type": "code",
      "source": [
        "from google.colab import files\n",
        "\n",
        "\n",
        "uploaded = files.upload()"
      ],
      "metadata": {
        "colab": {
          "base_uri": "https://localhost:8080/",
          "height": 73
        },
        "id": "KP3Oq4tQTLCr",
        "outputId": "625fe928-d69d-40e8-9513-4ca179026a8f"
      },
      "execution_count": 41,
      "outputs": [
        {
          "output_type": "display_data",
          "data": {
            "text/plain": [
              "<IPython.core.display.HTML object>"
            ],
            "text/html": [
              "\n",
              "     <input type=\"file\" id=\"files-6e17263a-dcd5-42ef-9a8e-37de05374569\" name=\"files[]\" multiple disabled\n",
              "        style=\"border:none\" />\n",
              "     <output id=\"result-6e17263a-dcd5-42ef-9a8e-37de05374569\">\n",
              "      Upload widget is only available when the cell has been executed in the\n",
              "      current browser session. Please rerun this cell to enable.\n",
              "      </output>\n",
              "      <script>// Copyright 2017 Google LLC\n",
              "//\n",
              "// Licensed under the Apache License, Version 2.0 (the \"License\");\n",
              "// you may not use this file except in compliance with the License.\n",
              "// You may obtain a copy of the License at\n",
              "//\n",
              "//      http://www.apache.org/licenses/LICENSE-2.0\n",
              "//\n",
              "// Unless required by applicable law or agreed to in writing, software\n",
              "// distributed under the License is distributed on an \"AS IS\" BASIS,\n",
              "// WITHOUT WARRANTIES OR CONDITIONS OF ANY KIND, either express or implied.\n",
              "// See the License for the specific language governing permissions and\n",
              "// limitations under the License.\n",
              "\n",
              "/**\n",
              " * @fileoverview Helpers for google.colab Python module.\n",
              " */\n",
              "(function(scope) {\n",
              "function span(text, styleAttributes = {}) {\n",
              "  const element = document.createElement('span');\n",
              "  element.textContent = text;\n",
              "  for (const key of Object.keys(styleAttributes)) {\n",
              "    element.style[key] = styleAttributes[key];\n",
              "  }\n",
              "  return element;\n",
              "}\n",
              "\n",
              "// Max number of bytes which will be uploaded at a time.\n",
              "const MAX_PAYLOAD_SIZE = 100 * 1024;\n",
              "\n",
              "function _uploadFiles(inputId, outputId) {\n",
              "  const steps = uploadFilesStep(inputId, outputId);\n",
              "  const outputElement = document.getElementById(outputId);\n",
              "  // Cache steps on the outputElement to make it available for the next call\n",
              "  // to uploadFilesContinue from Python.\n",
              "  outputElement.steps = steps;\n",
              "\n",
              "  return _uploadFilesContinue(outputId);\n",
              "}\n",
              "\n",
              "// This is roughly an async generator (not supported in the browser yet),\n",
              "// where there are multiple asynchronous steps and the Python side is going\n",
              "// to poll for completion of each step.\n",
              "// This uses a Promise to block the python side on completion of each step,\n",
              "// then passes the result of the previous step as the input to the next step.\n",
              "function _uploadFilesContinue(outputId) {\n",
              "  const outputElement = document.getElementById(outputId);\n",
              "  const steps = outputElement.steps;\n",
              "\n",
              "  const next = steps.next(outputElement.lastPromiseValue);\n",
              "  return Promise.resolve(next.value.promise).then((value) => {\n",
              "    // Cache the last promise value to make it available to the next\n",
              "    // step of the generator.\n",
              "    outputElement.lastPromiseValue = value;\n",
              "    return next.value.response;\n",
              "  });\n",
              "}\n",
              "\n",
              "/**\n",
              " * Generator function which is called between each async step of the upload\n",
              " * process.\n",
              " * @param {string} inputId Element ID of the input file picker element.\n",
              " * @param {string} outputId Element ID of the output display.\n",
              " * @return {!Iterable<!Object>} Iterable of next steps.\n",
              " */\n",
              "function* uploadFilesStep(inputId, outputId) {\n",
              "  const inputElement = document.getElementById(inputId);\n",
              "  inputElement.disabled = false;\n",
              "\n",
              "  const outputElement = document.getElementById(outputId);\n",
              "  outputElement.innerHTML = '';\n",
              "\n",
              "  const pickedPromise = new Promise((resolve) => {\n",
              "    inputElement.addEventListener('change', (e) => {\n",
              "      resolve(e.target.files);\n",
              "    });\n",
              "  });\n",
              "\n",
              "  const cancel = document.createElement('button');\n",
              "  inputElement.parentElement.appendChild(cancel);\n",
              "  cancel.textContent = 'Cancel upload';\n",
              "  const cancelPromise = new Promise((resolve) => {\n",
              "    cancel.onclick = () => {\n",
              "      resolve(null);\n",
              "    };\n",
              "  });\n",
              "\n",
              "  // Wait for the user to pick the files.\n",
              "  const files = yield {\n",
              "    promise: Promise.race([pickedPromise, cancelPromise]),\n",
              "    response: {\n",
              "      action: 'starting',\n",
              "    }\n",
              "  };\n",
              "\n",
              "  cancel.remove();\n",
              "\n",
              "  // Disable the input element since further picks are not allowed.\n",
              "  inputElement.disabled = true;\n",
              "\n",
              "  if (!files) {\n",
              "    return {\n",
              "      response: {\n",
              "        action: 'complete',\n",
              "      }\n",
              "    };\n",
              "  }\n",
              "\n",
              "  for (const file of files) {\n",
              "    const li = document.createElement('li');\n",
              "    li.append(span(file.name, {fontWeight: 'bold'}));\n",
              "    li.append(span(\n",
              "        `(${file.type || 'n/a'}) - ${file.size} bytes, ` +\n",
              "        `last modified: ${\n",
              "            file.lastModifiedDate ? file.lastModifiedDate.toLocaleDateString() :\n",
              "                                    'n/a'} - `));\n",
              "    const percent = span('0% done');\n",
              "    li.appendChild(percent);\n",
              "\n",
              "    outputElement.appendChild(li);\n",
              "\n",
              "    const fileDataPromise = new Promise((resolve) => {\n",
              "      const reader = new FileReader();\n",
              "      reader.onload = (e) => {\n",
              "        resolve(e.target.result);\n",
              "      };\n",
              "      reader.readAsArrayBuffer(file);\n",
              "    });\n",
              "    // Wait for the data to be ready.\n",
              "    let fileData = yield {\n",
              "      promise: fileDataPromise,\n",
              "      response: {\n",
              "        action: 'continue',\n",
              "      }\n",
              "    };\n",
              "\n",
              "    // Use a chunked sending to avoid message size limits. See b/62115660.\n",
              "    let position = 0;\n",
              "    do {\n",
              "      const length = Math.min(fileData.byteLength - position, MAX_PAYLOAD_SIZE);\n",
              "      const chunk = new Uint8Array(fileData, position, length);\n",
              "      position += length;\n",
              "\n",
              "      const base64 = btoa(String.fromCharCode.apply(null, chunk));\n",
              "      yield {\n",
              "        response: {\n",
              "          action: 'append',\n",
              "          file: file.name,\n",
              "          data: base64,\n",
              "        },\n",
              "      };\n",
              "\n",
              "      let percentDone = fileData.byteLength === 0 ?\n",
              "          100 :\n",
              "          Math.round((position / fileData.byteLength) * 100);\n",
              "      percent.textContent = `${percentDone}% done`;\n",
              "\n",
              "    } while (position < fileData.byteLength);\n",
              "  }\n",
              "\n",
              "  // All done.\n",
              "  yield {\n",
              "    response: {\n",
              "      action: 'complete',\n",
              "    }\n",
              "  };\n",
              "}\n",
              "\n",
              "scope.google = scope.google || {};\n",
              "scope.google.colab = scope.google.colab || {};\n",
              "scope.google.colab._files = {\n",
              "  _uploadFiles,\n",
              "  _uploadFilesContinue,\n",
              "};\n",
              "})(self);\n",
              "</script> "
            ]
          },
          "metadata": {}
        },
        {
          "output_type": "stream",
          "name": "stdout",
          "text": [
            "Saving Iris.csv to Iris (2).csv\n"
          ]
        }
      ]
    },
    {
      "cell_type": "code",
      "source": [
        "import pandas as pd\n",
        "import io\n",
        "\n",
        "df = pd.read_csv(io.BytesIO(uploaded['Iris (2).csv']))\n",
        "print(df)"
      ],
      "metadata": {
        "colab": {
          "base_uri": "https://localhost:8080/"
        },
        "id": "48b-aolJTL7H",
        "outputId": "0454e7ec-6ab1-4372-c74f-c5c17b6ec696"
      },
      "execution_count": 43,
      "outputs": [
        {
          "output_type": "stream",
          "name": "stdout",
          "text": [
            "      Id  SepalLengthCm  SepalWidthCm  PetalLengthCm  PetalWidthCm  \\\n",
            "0      1            5.1           3.5            1.4           0.2   \n",
            "1      2            4.9           3.0            1.4           0.2   \n",
            "2      3            4.7           3.2            1.3           0.2   \n",
            "3      4            4.6           3.1            1.5           0.2   \n",
            "4      5            5.0           3.6            1.4           0.2   \n",
            "..   ...            ...           ...            ...           ...   \n",
            "145  146            6.7           3.0            5.2           2.3   \n",
            "146  147            6.3           2.5            5.0           1.9   \n",
            "147  148            6.5           3.0            5.2           2.0   \n",
            "148  149            6.2           3.4            5.4           2.3   \n",
            "149  150            5.9           3.0            5.1           1.8   \n",
            "\n",
            "            Species  \n",
            "0       Iris-setosa  \n",
            "1       Iris-setosa  \n",
            "2       Iris-setosa  \n",
            "3       Iris-setosa  \n",
            "4       Iris-setosa  \n",
            "..              ...  \n",
            "145  Iris-virginica  \n",
            "146  Iris-virginica  \n",
            "147  Iris-virginica  \n",
            "148  Iris-virginica  \n",
            "149  Iris-virginica  \n",
            "\n",
            "[150 rows x 6 columns]\n"
          ]
        }
      ]
    },
    {
      "cell_type": "code",
      "source": [
        "print(\"Solution to Question 4\")\n",
        "iris_df = pd.read_csv('Iris.csv')\n",
        "print(iris_df.head())"
      ],
      "metadata": {
        "colab": {
          "base_uri": "https://localhost:8080/"
        },
        "id": "1De9TTqTNxlP",
        "outputId": "0c035f3e-9256-4a0f-e451-6b572453b682"
      },
      "execution_count": 44,
      "outputs": [
        {
          "output_type": "stream",
          "name": "stdout",
          "text": [
            "Solution to Question 4\n",
            "   Id  SepalLengthCm  SepalWidthCm  PetalLengthCm  PetalWidthCm      Species\n",
            "0   1            5.1           3.5            1.4           0.2  Iris-setosa\n",
            "1   2            4.9           3.0            1.4           0.2  Iris-setosa\n",
            "2   3            4.7           3.2            1.3           0.2  Iris-setosa\n",
            "3   4            4.6           3.1            1.5           0.2  Iris-setosa\n",
            "4   5            5.0           3.6            1.4           0.2  Iris-setosa\n"
          ]
        }
      ]
    },
    {
      "cell_type": "code",
      "source": [
        "print(\"Solution to Question 5\")\n",
        "iris_df = iris_df.drop(index=4)\n",
        "iris_df = iris_df.drop(iris_df.columns[3], axis=1)\n",
        "print(iris_df)\n"
      ],
      "metadata": {
        "colab": {
          "base_uri": "https://localhost:8080/"
        },
        "id": "ebMWkeFcNxt8",
        "outputId": "c2d92d84-07ad-4237-fe28-d210f42ae467"
      },
      "execution_count": 45,
      "outputs": [
        {
          "output_type": "stream",
          "name": "stdout",
          "text": [
            "Solution to Question 5\n",
            "      Id  SepalLengthCm  SepalWidthCm  PetalWidthCm         Species\n",
            "0      1            5.1           3.5           0.2     Iris-setosa\n",
            "1      2            4.9           3.0           0.2     Iris-setosa\n",
            "2      3            4.7           3.2           0.2     Iris-setosa\n",
            "3      4            4.6           3.1           0.2     Iris-setosa\n",
            "5      6            5.4           3.9           0.4     Iris-setosa\n",
            "..   ...            ...           ...           ...             ...\n",
            "145  146            6.7           3.0           2.3  Iris-virginica\n",
            "146  147            6.3           2.5           1.9  Iris-virginica\n",
            "147  148            6.5           3.0           2.0  Iris-virginica\n",
            "148  149            6.2           3.4           2.3  Iris-virginica\n",
            "149  150            5.9           3.0           1.8  Iris-virginica\n",
            "\n",
            "[149 rows x 5 columns]\n"
          ]
        }
      ]
    },
    {
      "cell_type": "code",
      "source": [
        "print(\"Solution to Question 6\")\n",
        "employee_data = {\n",
        "    'Employee_ID': [101, 102, 103, 104, 105],\n",
        "    'Name': ['Alice', 'Bob', 'Charlie', 'Diana', 'Edward'],\n",
        "    'Department': ['HR', 'IT', 'IT', 'Marketing', 'Sales'],\n",
        "    'Age': [29, 34, 41, 28, 38],\n",
        "    'Salary': [50000, 70000, 65000, 55000, 60000],\n",
        "    'Years_of_Experience': [4, 8, 10, 3, 12],\n",
        "    'Joining_Date': ['2020-03-15', '2017-07-19', '2013-06-01', '2021-02-10', '2010-11-25'],\n",
        "    'Gender': ['Female', 'Male', 'Male', 'Female', 'Male'],\n",
        "    'Bonus': [5000, 7000, 6000, 4500, 5000],\n",
        "    'Rating': [4.5, 4.0, 3.8, 4.7, 3.5]\n",
        "}\n",
        "emp_df = pd.DataFrame(employee_data)"
      ],
      "metadata": {
        "colab": {
          "base_uri": "https://localhost:8080/"
        },
        "id": "EO_UUbxcNyH-",
        "outputId": "74583dfd-3544-4fb9-9c99-e719bee8f0d2"
      },
      "execution_count": 46,
      "outputs": [
        {
          "output_type": "stream",
          "name": "stdout",
          "text": [
            "Solution to Question 6\n"
          ]
        }
      ]
    },
    {
      "cell_type": "code",
      "source": [
        "print(\"Solution to Question 6a\")\n",
        "print(emp_df.shape)"
      ],
      "metadata": {
        "colab": {
          "base_uri": "https://localhost:8080/"
        },
        "id": "YO4xf2EANsGR",
        "outputId": "bbf5195c-d587-4b88-a06f-9f9bfd28f535"
      },
      "execution_count": 47,
      "outputs": [
        {
          "output_type": "stream",
          "name": "stdout",
          "text": [
            "Solution to Question 6a\n",
            "(5, 10)\n"
          ]
        }
      ]
    },
    {
      "cell_type": "code",
      "source": [
        "print(\"Solution to Question 6b\")\n",
        "print(emp_df.info())"
      ],
      "metadata": {
        "colab": {
          "base_uri": "https://localhost:8080/"
        },
        "id": "uSpq8LZcNlHX",
        "outputId": "d028e746-f76b-4969-e198-3ba98aa6c575"
      },
      "execution_count": 48,
      "outputs": [
        {
          "output_type": "stream",
          "name": "stdout",
          "text": [
            "Solution to Question 6b\n",
            "<class 'pandas.core.frame.DataFrame'>\n",
            "RangeIndex: 5 entries, 0 to 4\n",
            "Data columns (total 10 columns):\n",
            " #   Column               Non-Null Count  Dtype  \n",
            "---  ------               --------------  -----  \n",
            " 0   Employee_ID          5 non-null      int64  \n",
            " 1   Name                 5 non-null      object \n",
            " 2   Department           5 non-null      object \n",
            " 3   Age                  5 non-null      int64  \n",
            " 4   Salary               5 non-null      int64  \n",
            " 5   Years_of_Experience  5 non-null      int64  \n",
            " 6   Joining_Date         5 non-null      object \n",
            " 7   Gender               5 non-null      object \n",
            " 8   Bonus                5 non-null      int64  \n",
            " 9   Rating               5 non-null      float64\n",
            "dtypes: float64(1), int64(5), object(4)\n",
            "memory usage: 532.0+ bytes\n",
            "None\n"
          ]
        }
      ]
    },
    {
      "cell_type": "code",
      "source": [
        "print(\"Solution to Question 6c\")\n",
        "print(emp_df.describe())"
      ],
      "metadata": {
        "colab": {
          "base_uri": "https://localhost:8080/"
        },
        "id": "4j9cI2VzNlK_",
        "outputId": "bf9af7bd-7221-4889-9225-26d9f5ed7755"
      },
      "execution_count": 49,
      "outputs": [
        {
          "output_type": "stream",
          "name": "stdout",
          "text": [
            "Solution to Question 6c\n",
            "       Employee_ID        Age       Salary  Years_of_Experience   Bonus  \\\n",
            "count     5.000000   5.000000      5.00000             5.000000     5.0   \n",
            "mean    103.000000  34.000000  60000.00000             7.400000  5500.0   \n",
            "std       1.581139   5.612486   7905.69415             3.847077  1000.0   \n",
            "min     101.000000  28.000000  50000.00000             3.000000  4500.0   \n",
            "25%     102.000000  29.000000  55000.00000             4.000000  5000.0   \n",
            "50%     103.000000  34.000000  60000.00000             8.000000  5000.0   \n",
            "75%     104.000000  38.000000  65000.00000            10.000000  6000.0   \n",
            "max     105.000000  41.000000  70000.00000            12.000000  7000.0   \n",
            "\n",
            "         Rating  \n",
            "count  5.000000  \n",
            "mean   4.100000  \n",
            "std    0.494975  \n",
            "min    3.500000  \n",
            "25%    3.800000  \n",
            "50%    4.000000  \n",
            "75%    4.500000  \n",
            "max    4.700000  \n"
          ]
        }
      ]
    },
    {
      "cell_type": "code",
      "source": [
        "print(\"Solution to Question 6d\")\n",
        "print(\"First 5 rows:\")\n",
        "print(emp_df.head())\n",
        "print(\"Last 3 rows:\")\n",
        "print(emp_df.tail(3))"
      ],
      "metadata": {
        "colab": {
          "base_uri": "https://localhost:8080/"
        },
        "id": "D9vRh0_XNTG1",
        "outputId": "8656218d-d089-459f-f0e5-fa4c050c7631"
      },
      "execution_count": 50,
      "outputs": [
        {
          "output_type": "stream",
          "name": "stdout",
          "text": [
            "Solution to Question 6d\n",
            "First 5 rows:\n",
            "   Employee_ID     Name Department  Age  Salary  Years_of_Experience  \\\n",
            "0          101    Alice         HR   29   50000                    4   \n",
            "1          102      Bob         IT   34   70000                    8   \n",
            "2          103  Charlie         IT   41   65000                   10   \n",
            "3          104    Diana  Marketing   28   55000                    3   \n",
            "4          105   Edward      Sales   38   60000                   12   \n",
            "\n",
            "  Joining_Date  Gender  Bonus  Rating  \n",
            "0   2020-03-15  Female   5000     4.5  \n",
            "1   2017-07-19    Male   7000     4.0  \n",
            "2   2013-06-01    Male   6000     3.8  \n",
            "3   2021-02-10  Female   4500     4.7  \n",
            "4   2010-11-25    Male   5000     3.5  \n",
            "Last 3 rows:\n",
            "   Employee_ID     Name Department  Age  Salary  Years_of_Experience  \\\n",
            "2          103  Charlie         IT   41   65000                   10   \n",
            "3          104    Diana  Marketing   28   55000                    3   \n",
            "4          105   Edward      Sales   38   60000                   12   \n",
            "\n",
            "  Joining_Date  Gender  Bonus  Rating  \n",
            "2   2013-06-01    Male   6000     3.8  \n",
            "3   2021-02-10  Female   4500     4.7  \n",
            "4   2010-11-25    Male   5000     3.5  \n"
          ]
        }
      ]
    },
    {
      "cell_type": "code",
      "source": [
        "print(\"Solution to Question 6e\")\n",
        "print(f\"Average Salary: {emp_df['Salary'].mean()}\")\n",
        "print(f\"Total Bonus: {emp_df['Bonus'].sum()}\")\n",
        "print(f\"Youngest Employee Age: {emp_df['Age'].min()}\")\n",
        "print(f\"Highest Rating: {emp_df['Rating'].max()}\")"
      ],
      "metadata": {
        "colab": {
          "base_uri": "https://localhost:8080/"
        },
        "id": "24hmzUH-NVdI",
        "outputId": "20fa785a-95fe-4ac2-b6b9-d6a2374dbcc3"
      },
      "execution_count": 51,
      "outputs": [
        {
          "output_type": "stream",
          "name": "stdout",
          "text": [
            "Solution to Question 6e\n",
            "Average Salary: 60000.0\n",
            "Total Bonus: 27500\n",
            "Youngest Employee Age: 28\n",
            "Highest Rating: 4.7\n"
          ]
        }
      ]
    },
    {
      "cell_type": "code",
      "source": [
        "print(\"Solution to Question 6f\")\n",
        "sorted_df = emp_df.sort_values(by='Salary', ascending=False)\n",
        "print(sorted_df)"
      ],
      "metadata": {
        "colab": {
          "base_uri": "https://localhost:8080/"
        },
        "id": "XFjnVm0INVgi",
        "outputId": "f71930ab-829d-42fd-cb47-0c1c9dbd13cd"
      },
      "execution_count": 52,
      "outputs": [
        {
          "output_type": "stream",
          "name": "stdout",
          "text": [
            "Solution to Question 6f\n",
            "   Employee_ID     Name Department  Age  Salary  Years_of_Experience  \\\n",
            "1          102      Bob         IT   34   70000                    8   \n",
            "2          103  Charlie         IT   41   65000                   10   \n",
            "4          105   Edward      Sales   38   60000                   12   \n",
            "3          104    Diana  Marketing   28   55000                    3   \n",
            "0          101    Alice         HR   29   50000                    4   \n",
            "\n",
            "  Joining_Date  Gender  Bonus  Rating  \n",
            "1   2017-07-19    Male   7000     4.0  \n",
            "2   2013-06-01    Male   6000     3.8  \n",
            "4   2010-11-25    Male   5000     3.5  \n",
            "3   2021-02-10  Female   4500     4.7  \n",
            "0   2020-03-15  Female   5000     4.5  \n"
          ]
        }
      ]
    },
    {
      "cell_type": "code",
      "source": [
        "print(\"Solution to Question 6g\")\n",
        "def get_performance_category(rating):\n",
        "    if rating >= 4.5:\n",
        "        return 'Excellent'\n",
        "    elif rating >= 4.0:\n",
        "        return 'Good'\n",
        "    else:\n",
        "        return 'Average'\n",
        "\n",
        "emp_df['Performance_Category'] = emp_df['Rating'].apply(get_performance_category)\n",
        "print(emp_df)\n"
      ],
      "metadata": {
        "colab": {
          "base_uri": "https://localhost:8080/"
        },
        "id": "gKhJ7hhWM6Bx",
        "outputId": "df8555b2-c067-4622-e0c8-cef845fde116"
      },
      "execution_count": 53,
      "outputs": [
        {
          "output_type": "stream",
          "name": "stdout",
          "text": [
            "Solution to Question 6g\n",
            "   Employee_ID     Name Department  Age  Salary  Years_of_Experience  \\\n",
            "0          101    Alice         HR   29   50000                    4   \n",
            "1          102      Bob         IT   34   70000                    8   \n",
            "2          103  Charlie         IT   41   65000                   10   \n",
            "3          104    Diana  Marketing   28   55000                    3   \n",
            "4          105   Edward      Sales   38   60000                   12   \n",
            "\n",
            "  Joining_Date  Gender  Bonus  Rating Performance_Category  \n",
            "0   2020-03-15  Female   5000     4.5            Excellent  \n",
            "1   2017-07-19    Male   7000     4.0                 Good  \n",
            "2   2013-06-01    Male   6000     3.8              Average  \n",
            "3   2021-02-10  Female   4500     4.7            Excellent  \n",
            "4   2010-11-25    Male   5000     3.5              Average  \n"
          ]
        }
      ]
    },
    {
      "cell_type": "code",
      "source": [
        "print(\"Solution to Question 6h\")\n",
        "print(emp_df.isnull().sum())"
      ],
      "metadata": {
        "colab": {
          "base_uri": "https://localhost:8080/"
        },
        "id": "_n6B6XvcM6Fe",
        "outputId": "0043f10d-7cda-4670-c61b-6a90e3bb7629"
      },
      "execution_count": 54,
      "outputs": [
        {
          "output_type": "stream",
          "name": "stdout",
          "text": [
            "Solution to Question 6h\n",
            "Employee_ID             0\n",
            "Name                    0\n",
            "Department              0\n",
            "Age                     0\n",
            "Salary                  0\n",
            "Years_of_Experience     0\n",
            "Joining_Date            0\n",
            "Gender                  0\n",
            "Bonus                   0\n",
            "Rating                  0\n",
            "Performance_Category    0\n",
            "dtype: int64\n"
          ]
        }
      ]
    },
    {
      "cell_type": "code",
      "source": [
        "print(\"Solution to Question 6i\")\n",
        "emp_df = emp_df.rename(columns={'Employee_ID': 'ID'})\n",
        "print(emp_df.columns)"
      ],
      "metadata": {
        "colab": {
          "base_uri": "https://localhost:8080/"
        },
        "id": "UjRPJkCYM6IT",
        "outputId": "a64b04e3-bcb7-4098-bc83-b938d6fb616a"
      },
      "execution_count": 55,
      "outputs": [
        {
          "output_type": "stream",
          "name": "stdout",
          "text": [
            "Solution to Question 6i\n",
            "Index(['ID', 'Name', 'Department', 'Age', 'Salary', 'Years_of_Experience',\n",
            "       'Joining_Date', 'Gender', 'Bonus', 'Rating', 'Performance_Category'],\n",
            "      dtype='object')\n"
          ]
        }
      ]
    },
    {
      "cell_type": "code",
      "source": [
        "print(\"Solution to Question 6j\")\n",
        "experienced_employees = emp_df[emp_df['Years_of_Experience'] > 5]\n",
        "it_employees = emp_df[emp_df['Department'] == 'IT']\n",
        "print(\"Experienced Employees:\")\n",
        "print(experienced_employees)\n",
        "print(\"IT Department Employees:\")\n",
        "print(it_employees)"
      ],
      "metadata": {
        "colab": {
          "base_uri": "https://localhost:8080/"
        },
        "id": "bR-VTgP2M6Kn",
        "outputId": "1c2f0036-696f-414a-81d0-f2a66d63d963"
      },
      "execution_count": 56,
      "outputs": [
        {
          "output_type": "stream",
          "name": "stdout",
          "text": [
            "Solution to Question 6j\n",
            "Experienced Employees:\n",
            "    ID     Name Department  Age  Salary  Years_of_Experience Joining_Date  \\\n",
            "1  102      Bob         IT   34   70000                    8   2017-07-19   \n",
            "2  103  Charlie         IT   41   65000                   10   2013-06-01   \n",
            "4  105   Edward      Sales   38   60000                   12   2010-11-25   \n",
            "\n",
            "  Gender  Bonus  Rating Performance_Category  \n",
            "1   Male   7000     4.0                 Good  \n",
            "2   Male   6000     3.8              Average  \n",
            "4   Male   5000     3.5              Average  \n",
            "IT Department Employees:\n",
            "    ID     Name Department  Age  Salary  Years_of_Experience Joining_Date  \\\n",
            "1  102      Bob         IT   34   70000                    8   2017-07-19   \n",
            "2  103  Charlie         IT   41   65000                   10   2013-06-01   \n",
            "\n",
            "  Gender  Bonus  Rating Performance_Category  \n",
            "1   Male   7000     4.0                 Good  \n",
            "2   Male   6000     3.8              Average  \n"
          ]
        }
      ]
    },
    {
      "cell_type": "code",
      "source": [
        "print(\"Solution to Question 6k\")\n",
        "emp_df['Tax'] = emp_df['Salary'] * 0.1\n",
        "print(emp_df)"
      ],
      "metadata": {
        "colab": {
          "base_uri": "https://localhost:8080/"
        },
        "id": "V-z7sAqQM6Np",
        "outputId": "5003f3c5-b4d3-48ff-9517-b9301451fec1"
      },
      "execution_count": 57,
      "outputs": [
        {
          "output_type": "stream",
          "name": "stdout",
          "text": [
            "Solution to Question 6k\n",
            "    ID     Name Department  Age  Salary  Years_of_Experience Joining_Date  \\\n",
            "0  101    Alice         HR   29   50000                    4   2020-03-15   \n",
            "1  102      Bob         IT   34   70000                    8   2017-07-19   \n",
            "2  103  Charlie         IT   41   65000                   10   2013-06-01   \n",
            "3  104    Diana  Marketing   28   55000                    3   2021-02-10   \n",
            "4  105   Edward      Sales   38   60000                   12   2010-11-25   \n",
            "\n",
            "   Gender  Bonus  Rating Performance_Category     Tax  \n",
            "0  Female   5000     4.5            Excellent  5000.0  \n",
            "1    Male   7000     4.0                 Good  7000.0  \n",
            "2    Male   6000     3.8              Average  6500.0  \n",
            "3  Female   4500     4.7            Excellent  5500.0  \n",
            "4    Male   5000     3.5              Average  6000.0  \n"
          ]
        }
      ]
    },
    {
      "cell_type": "code",
      "source": [
        "print(\"Solution to Question 6l\")\n",
        "emp_df.to_csv('modified_employees.csv', index=False)\n",
        "print(\"Contents of saved CSV file:\")\n",
        "saved_df = pd.read_csv('modified_employees.csv')\n",
        "print(saved_df)"
      ],
      "metadata": {
        "colab": {
          "base_uri": "https://localhost:8080/"
        },
        "id": "OvzB0TfpM6Q9",
        "outputId": "80a8cde2-b4ea-4a34-f253-42fa3abcc227"
      },
      "execution_count": 58,
      "outputs": [
        {
          "output_type": "stream",
          "name": "stdout",
          "text": [
            "Solution to Question 6l\n",
            "Contents of saved CSV file:\n",
            "    ID     Name Department  Age  Salary  Years_of_Experience Joining_Date  \\\n",
            "0  101    Alice         HR   29   50000                    4   2020-03-15   \n",
            "1  102      Bob         IT   34   70000                    8   2017-07-19   \n",
            "2  103  Charlie         IT   41   65000                   10   2013-06-01   \n",
            "3  104    Diana  Marketing   28   55000                    3   2021-02-10   \n",
            "4  105   Edward      Sales   38   60000                   12   2010-11-25   \n",
            "\n",
            "   Gender  Bonus  Rating Performance_Category     Tax  \n",
            "0  Female   5000     4.5            Excellent  5000.0  \n",
            "1    Male   7000     4.0                 Good  7000.0  \n",
            "2    Male   6000     3.8              Average  6500.0  \n",
            "3  Female   4500     4.7            Excellent  5500.0  \n",
            "4    Male   5000     3.5              Average  6000.0  \n"
          ]
        }
      ]
    }
  ]
}