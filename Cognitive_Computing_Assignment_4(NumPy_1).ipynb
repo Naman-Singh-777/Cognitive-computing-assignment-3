{
  "nbformat": 4,
  "nbformat_minor": 0,
  "metadata": {
    "colab": {
      "provenance": []
    },
    "kernelspec": {
      "name": "python3",
      "display_name": "Python 3"
    },
    "language_info": {
      "name": "python"
    }
  },
  "cells": [
    {
      "cell_type": "code",
      "execution_count": 14,
      "metadata": {
        "colab": {
          "base_uri": "https://localhost:8080/"
        },
        "id": "ryu0qWkxDV9g",
        "outputId": "9b800e10-e33b-4a04-e8ab-e11ea7f7c7f1"
      },
      "outputs": [
        {
          "output_type": "stream",
          "name": "stdout",
          "text": [
            "Question 1 - Basic Array Operations\n",
            "Original array: [1 2 3 4 5]\n"
          ]
        }
      ],
      "source": [
        "import numpy as np\n",
        "\n",
        "print(\"Question 1 - Basic Array Operations\")\n",
        "arr = np.array([1, 2, 3, 4, 5])\n",
        "print(\"Original array:\", arr)"
      ]
    },
    {
      "cell_type": "code",
      "source": [
        "print(\"Q1(a) - After adding 2:\", arr + 2)"
      ],
      "metadata": {
        "colab": {
          "base_uri": "https://localhost:8080/"
        },
        "id": "5BfjozqRE9PG",
        "outputId": "a82d73d6-20f7-42ed-984f-88cc0edb6fee"
      },
      "execution_count": 15,
      "outputs": [
        {
          "output_type": "stream",
          "name": "stdout",
          "text": [
            "Q1(a) - After adding 2: [3 4 5 6 7]\n"
          ]
        }
      ]
    },
    {
      "cell_type": "code",
      "source": [
        "print(\"Q1(b) - After multiplying by 3:\", arr * 3)"
      ],
      "metadata": {
        "colab": {
          "base_uri": "https://localhost:8080/"
        },
        "id": "kKj1ECAxE9eS",
        "outputId": "d4ae3b07-15b8-47d7-fb8b-06aedc9cc97b"
      },
      "execution_count": 16,
      "outputs": [
        {
          "output_type": "stream",
          "name": "stdout",
          "text": [
            "Q1(b) - After multiplying by 3: [ 3  6  9 12 15]\n"
          ]
        }
      ]
    },
    {
      "cell_type": "code",
      "source": [
        "print(\"Q1(c) - After dividing by 2:\", arr / 2)"
      ],
      "metadata": {
        "colab": {
          "base_uri": "https://localhost:8080/"
        },
        "id": "Abru_8r0E9nk",
        "outputId": "4dc08441-8fc3-456b-b9a5-38eb57e61dba"
      },
      "execution_count": 17,
      "outputs": [
        {
          "output_type": "stream",
          "name": "stdout",
          "text": [
            "Q1(c) - After dividing by 2: [0.5 1.  1.5 2.  2.5]\n"
          ]
        }
      ]
    },
    {
      "cell_type": "code",
      "source": [
        "print(\"\\nQuestion 2 - Array Manipulations\")\n",
        "print(\"Q2(a) - Reverse array\")\n",
        "arr = np.array([1, 2, 3, 6, 4, 5])\n",
        "print(\"Original array:\", arr)\n",
        "print(\"Reversed array:\", arr[::-1])\n",
        "\n",
        "print(\"\\nQ2(b-i) - Most frequent values in array x\")\n",
        "x = np.array([1, 2, 3, 4, 5, 1, 2, 1, 1, 1])\n",
        "print(\"Array x:\", x)\n",
        "values, counts = np.unique(x, return_counts=True)\n",
        "most_frequent = values[counts == counts.max()]\n",
        "indices = np.where(np.isin(x, most_frequent))[0]\n",
        "print(\"Most frequent value in x:\", most_frequent)\n",
        "print(\"Indices:\", indices)\n"
      ],
      "metadata": {
        "id": "fnshptLjDvUr",
        "colab": {
          "base_uri": "https://localhost:8080/"
        },
        "outputId": "14fad930-e967-4bac-ae43-a451684e1ed1"
      },
      "execution_count": 18,
      "outputs": [
        {
          "output_type": "stream",
          "name": "stdout",
          "text": [
            "\n",
            "Question 2 - Array Manipulations\n",
            "Q2(a) - Reverse array\n",
            "Original array: [1 2 3 6 4 5]\n",
            "Reversed array: [5 4 6 3 2 1]\n",
            "\n",
            "Q2(b-i) - Most frequent values in array x\n",
            "Array x: [1 2 3 4 5 1 2 1 1 1]\n",
            "Most frequent value in x: [1]\n",
            "Indices: [0 5 7 8 9]\n"
          ]
        }
      ]
    },
    {
      "cell_type": "code",
      "source": [
        "print(\"\\nQ2(b-ii) - Most frequent values in array y\")\n",
        "y = np.array([1, 1, 1, 2, 3, 4, 2, 4, 3, 3])\n",
        "values, counts = np.unique(y, return_counts=True)\n",
        "most_frequent = values[counts == counts.max()]\n",
        "indices = np.where(np.isin(y, most_frequent))[0]\n",
        "print(\"Most frequent value in y:\", most_frequent)\n",
        "print(\"Indices:\", indices)\n"
      ],
      "metadata": {
        "colab": {
          "base_uri": "https://localhost:8080/"
        },
        "id": "5vSvE53JDvGq",
        "outputId": "6b365572-6b6f-447d-89f2-e28a8c4b9ed3"
      },
      "execution_count": 19,
      "outputs": [
        {
          "output_type": "stream",
          "name": "stdout",
          "text": [
            "\n",
            "Q2(b-ii) - Most frequent values in array y\n",
            "Most frequent value in y: [1 3]\n",
            "Indices: [0 1 2 4 8 9]\n"
          ]
        }
      ]
    },
    {
      "cell_type": "code",
      "source": [
        "print(\"\\nQuestion 3 - 2D Array Indexing\")\n",
        "arr = np.array([[10, 20, 30], [40, 50, 60], [70, 80, 90]])\n",
        "print(\"Original 2D array:\")\n",
        "print(arr)\n",
        "\n",
        "\n"
      ],
      "metadata": {
        "colab": {
          "base_uri": "https://localhost:8080/"
        },
        "id": "as67ZaeBDvJR",
        "outputId": "36961acf-996f-4ab2-fc32-e896e58081aa"
      },
      "execution_count": 20,
      "outputs": [
        {
          "output_type": "stream",
          "name": "stdout",
          "text": [
            "\n",
            "Question 3 - 2D Array Indexing\n",
            "Original 2D array:\n",
            "[[10 20 30]\n",
            " [40 50 60]\n",
            " [70 80 90]]\n"
          ]
        }
      ]
    },
    {
      "cell_type": "code",
      "source": [
        "print(\"Q3(a) - 1st row, 2nd column:\", arr[0, 1])"
      ],
      "metadata": {
        "colab": {
          "base_uri": "https://localhost:8080/"
        },
        "id": "Z6_DUEWGKUqy",
        "outputId": "1ec9e875-c3a3-4312-ce6b-452ab18fb190"
      },
      "execution_count": 21,
      "outputs": [
        {
          "output_type": "stream",
          "name": "stdout",
          "text": [
            "Q3(a) - 1st row, 2nd column: 20\n"
          ]
        }
      ]
    },
    {
      "cell_type": "code",
      "source": [
        "print(\"Q3(b) - 3rd row, 1st column:\", arr[2, 0])"
      ],
      "metadata": {
        "colab": {
          "base_uri": "https://localhost:8080/"
        },
        "id": "pSXUAu2HEW1Q",
        "outputId": "b7f8c715-02d8-43f8-f8a8-8c4377887da0"
      },
      "execution_count": 22,
      "outputs": [
        {
          "output_type": "stream",
          "name": "stdout",
          "text": [
            "Q3(b) - 3rd row, 1st column: 70\n"
          ]
        }
      ]
    },
    {
      "cell_type": "code",
      "source": [
        "print(\"\\nQuestion 4 - Array Creation and Properties\")\n",
        "naman_singh = np.linspace(10, 100, 25)\n",
        "print(\"Array:\", naman_singh)\n",
        "print(\"Q4(a) - Dimensions:\", naman_singh.ndim)\n",
        "print(\"Q4(b) - Shape:\", naman_singh.shape)\n",
        "print(\"Q4(c) - Total elements:\", naman_singh.size)\n",
        "print(\"Q4(d) - Data type:\", naman_singh.dtype)\n",
        "print(\"Q4(e) - Total bytes:\", naman_singh.nbytes)\n",
        "reshaped = naman_singh.reshape(-1, 1)\n",
        "print(\"Q4(f) - Reshaped array:\")\n",
        "print(reshaped)\n",
        "print(\"Q4(g) - Using T attribute:\")\n",
        "print(naman_singh.reshape(-1, 1).T)"
      ],
      "metadata": {
        "colab": {
          "base_uri": "https://localhost:8080/"
        },
        "id": "3TdF96NcDvPH",
        "outputId": "fa60d7f7-8f8a-4f68-9a5c-02b50a019957"
      },
      "execution_count": 23,
      "outputs": [
        {
          "output_type": "stream",
          "name": "stdout",
          "text": [
            "\n",
            "Question 4 - Array Creation and Properties\n",
            "Array: [ 10.    13.75  17.5   21.25  25.    28.75  32.5   36.25  40.    43.75\n",
            "  47.5   51.25  55.    58.75  62.5   66.25  70.    73.75  77.5   81.25\n",
            "  85.    88.75  92.5   96.25 100.  ]\n",
            "Q4(a) - Dimensions: 1\n",
            "Q4(b) - Shape: (25,)\n",
            "Q4(c) - Total elements: 25\n",
            "Q4(d) - Data type: float64\n",
            "Q4(e) - Total bytes: 200\n",
            "Q4(f) - Reshaped array:\n",
            "[[ 10.  ]\n",
            " [ 13.75]\n",
            " [ 17.5 ]\n",
            " [ 21.25]\n",
            " [ 25.  ]\n",
            " [ 28.75]\n",
            " [ 32.5 ]\n",
            " [ 36.25]\n",
            " [ 40.  ]\n",
            " [ 43.75]\n",
            " [ 47.5 ]\n",
            " [ 51.25]\n",
            " [ 55.  ]\n",
            " [ 58.75]\n",
            " [ 62.5 ]\n",
            " [ 66.25]\n",
            " [ 70.  ]\n",
            " [ 73.75]\n",
            " [ 77.5 ]\n",
            " [ 81.25]\n",
            " [ 85.  ]\n",
            " [ 88.75]\n",
            " [ 92.5 ]\n",
            " [ 96.25]\n",
            " [100.  ]]\n",
            "Q4(g) - Using T attribute:\n",
            "[[ 10.    13.75  17.5   21.25  25.    28.75  32.5   36.25  40.    43.75\n",
            "   47.5   51.25  55.    58.75  62.5   66.25  70.    73.75  77.5   81.25\n",
            "   85.    88.75  92.5   96.25 100.  ]]\n"
          ]
        }
      ]
    },
    {
      "cell_type": "code",
      "source": [
        "print(\"\\nQuestion 5 - 2D Array Operations\")\n",
        "ucs420_naman_singh = np.array([[10, 20, 30, 40],\n",
        "                              [50, 60, 70, 80],\n",
        "                              [90, 15, 20, 35]])\n",
        "print(\"Q5 - Creating 2D Array with three rows and four columns:\")\n",
        "print(ucs420_naman_singh)\n",
        "print(\"Q5(a) - Mean:\", np.mean(ucs420_naman_singh))\n",
        "print(\"Q5(b) - Median:\", np.median(ucs420_naman_singh))\n",
        "print(\"Q5(c) - Max:\", np.max(ucs420_naman_singh))\n",
        "print(\"Q5(d) - Min:\", np.min(ucs420_naman_singh))\n",
        "print(\"Q5(e) - Unique elements:\", np.unique(ucs420_naman_singh))\n",
        "\n",
        "print(\"\\nQ5(f) - Reshaped to 4x3 (reshaped_ucs420_naman_singh):\")\n",
        "reshaped_ucs420_naman_singh = ucs420_naman_singh.reshape(4, 3)\n",
        "print(reshaped_ucs420_naman_singh)\n",
        "\n",
        "print(\"\\nQ5(g) - Resized to 2x3 (resized_ucs420_naman_singh):\")\n",
        "resized_ucs420_naman_singh = np.resize(ucs420_naman_singh, (2, 3))\n",
        "print(resized_ucs420_naman_singh)"
      ],
      "metadata": {
        "colab": {
          "base_uri": "https://localhost:8080/"
        },
        "id": "2aiKt9WCDvXJ",
        "outputId": "ff984748-32dd-4ca3-96e4-66a1bade09c4"
      },
      "execution_count": 24,
      "outputs": [
        {
          "output_type": "stream",
          "name": "stdout",
          "text": [
            "\n",
            "Question 5 - 2D Array Operations\n",
            "Q5 - Creating 2D Array with three rows and four columns:\n",
            "[[10 20 30 40]\n",
            " [50 60 70 80]\n",
            " [90 15 20 35]]\n",
            "Q5(a) - Mean: 43.333333333333336\n",
            "Q5(b) - Median: 37.5\n",
            "Q5(c) - Max: 90\n",
            "Q5(d) - Min: 10\n",
            "Q5(e) - Unique elements: [10 15 20 30 35 40 50 60 70 80 90]\n",
            "\n",
            "Q5(f) - Reshaped to 4x3 (reshaped_ucs420_naman_singh):\n",
            "[[10 20 30]\n",
            " [40 50 60]\n",
            " [70 80 90]\n",
            " [15 20 35]]\n",
            "\n",
            "Q5(g) - Resized to 2x3 (resized_ucs420_naman_singh):\n",
            "[[10 20 30]\n",
            " [40 50 60]]\n"
          ]
        }
      ]
    }
  ]
}